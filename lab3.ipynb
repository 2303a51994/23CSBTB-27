{
  "nbformat": 4,
  "nbformat_minor": 0,
  "metadata": {
    "colab": {
      "provenance": [],
      "authorship_tag": "ABX9TyOwo+ZssOdJe5JXN8RcLK2m",
      "include_colab_link": true
    },
    "kernelspec": {
      "name": "python3",
      "display_name": "Python 3"
    },
    "language_info": {
      "name": "python"
    }
  },
  "cells": [
    {
      "cell_type": "markdown",
      "metadata": {
        "id": "view-in-github",
        "colab_type": "text"
      },
      "source": [
        "<a href=\"https://colab.research.google.com/github/2303a51994/AIML-2025/blob/main/lab3.ipynb\" target=\"_parent\"><img src=\"https://colab.research.google.com/assets/colab-badge.svg\" alt=\"Open In Colab\"/></a>"
      ]
    },
    {
      "cell_type": "code",
      "source": [
        "def play_game(game, strategies: dict, verbose=False):\n",
        "    \"\"\"\n",
        "    Play a turn-taking game. 'strategies' is a {player_name: function} dict,\n",
        "    where function(state, game) is used to get the player's move.\n",
        "\n",
        "    Parameters:\n",
        "    - game: an object representing the game with methods initial, is_terminal, result\n",
        "    - strategies: a dictionary where keys are player names and values are functions that\n",
        "      determine the move for a given player based on the current state and the game.\n",
        "    - verbose: if True, print detailed game state information after each move.\n",
        "\n",
        "    Returns:\n",
        "    - The final state of the game after all moves have been played.\n",
        "    \"\"\"\n",
        "    state = game.initial  # Initialize the game state\n",
        "    while not game.is_terminal(state):  # Continue until the game reaches a terminal state\n",
        "        player = state.to_move  # Determine the player to move\n",
        "        move = strategies[player](game, state)  # Get the move from the player's strategy\n",
        "        state = game.result(state, move)  # Update the state based on the move\n",
        "        if verbose:\n",
        "            print(f'Player {player} move: {move}')\n",
        "            print('Current State:')\n",
        "            print(state)  # Print the current state\n",
        "\n",
        "    return state  # Return the final state of the game"
      ],
      "metadata": {
        "id": "QwB1myga8h9O"
      },
      "execution_count": 2,
      "outputs": []
    }
  ]
}